{
 "cells": [
  {
   "cell_type": "code",
   "execution_count": null,
   "metadata": {},
   "outputs": [
    {
     "name": "stdout",
     "output_type": "stream",
     "text": [
      "Welcome to SuperLot! These are the spaces currently available: [1, 2, 3, 4, 5, 6, 7, 8, 9, 10]\n"
     ]
    }
   ],
   "source": [
    "class Garage():\n",
    "        \n",
    "    def __init__(self, tickets = [i for i in range(1, 11)], parkingSpaces = 10, currentTicket = {}):\n",
    "        self.tickets = [i for i in range(1, 11)]\n",
    "        self.parkingSpaces = 10\n",
    "        self.currentTicket = {}\n",
    "         \n",
    "    def takeTicket(self):\n",
    "        while True:\n",
    "            if len(self.tickets) == 0:\n",
    "                print(\"Sorry, there are no more spaces available :(((\\n\")\n",
    "                break   \n",
    "            else:\n",
    "                givenTicket = self.tickets.pop(0)\n",
    "                print(f\"Your ticket is ticket #{givenTicket}! Please park safely!\\n\")\n",
    "                self.parkingSpaces -= 1 \n",
    "                self.currentTicket[str(givenTicket)] = False\n",
    "                break\n",
    "        \n",
    "    def payForParking(self):\n",
    "        payParkNum = input(\"What is your ticket number?\\n\\n\")\n",
    "        if int(payParkNum) in self.tickets:\n",
    "            print('Sorry that spot has not been taken yet.')\n",
    "        else:\n",
    "            self.currentTicket[payParkNum] = True\n",
    "        \n",
    "            print(\"Sorry, that cannot be your space. Please try again!\")\n",
    "        elif self.currentTicket[payParkNum] == True:\n",
    "            print(\"We would love more money, but this ticket has already been paid!\\n\")            \n",
    "        else:\n",
    "            self.currentTicket[payParkNum] = True\n",
    "            print(\"Ticket has been paid. Please exit carefully to the right!\\n\")\n",
    "            \n",
    "            \n",
    "    def leaveGarage(self):\n",
    "        leave_number = input(\"What is your ticket number?\\n\\n\")\n",
    "        if leave_number not in self.currentTicket:\n",
    "            print(\"That ticket is a fake! It is not in use. Please check your ticket number again.\")\n",
    "        elif self.currentTicket[leave_number] == True:\n",
    "            print(\"\\nThank you for parking at SuperLot!\")\n",
    "            del self.currentTicket[leave_number]\n",
    "            self.parkingSpaces += 1\n",
    "            self.tickets.append(int(leave_number))\n",
    "        elif self.currentTicket[leave_number] == False:\n",
    "            print(\"Parking isn't free! Please pay at your nearest kiosk!\")\n",
    "\n",
    "            \n",
    "        \n",
    "def park():\n",
    "    from IPython.display import clear_output\n",
    "    \n",
    "    take = Garage()\n",
    "    \n",
    "    while True:\n",
    "        \n",
    "        print(\"Welcome to SuperLot!\"\n",
    "            f\" These are the spaces currently available: {sorted(take.tickets)}\")\n",
    "        choice = input(\"\\nWould you like get a 'ticket', 'pay', or 'leave'?\\n\\n\")\n",
    "        clear_output()\n",
    "        \n",
    "        \n",
    "        if choice.lower() == \"ticket\":\n",
    "            take.takeTicket() \n",
    "\n",
    "        elif choice.lower() == \"pay\":\n",
    "            take.payForParking()\n",
    "\n",
    "        elif choice.lower() == \"leave\":\n",
    "            take.leaveGarage()\n",
    "        else:\n",
    "            print(f\"It seems that '{choice}' is not a valid input. Please make sure you type 'ticket', 'pay', or 'leave'.\\n\\n\")\n",
    "park()"
   ]
  },
  {
   "cell_type": "code",
   "execution_count": null,
   "metadata": {},
   "outputs": [],
   "source": [
    "class Driver():\n",
    "    specicies = Homo sapiens\n",
    "    licenced = True\n",
    "    \n",
    "    def __init__(self, firstName):\n",
    "        self.firstName = firstName\n",
    "        self.carModel = carModel\n",
    "        self.carMake = carMake\n",
    "        self.carColor = carColor\n",
    "        self.ticketNum = TicketNum\n",
    "        \n",
    "    \n",
    "    "
   ]
  },
  {
   "cell_type": "code",
   "execution_count": null,
   "metadata": {},
   "outputs": [],
   "source": []
  }
 ],
 "metadata": {
  "kernelspec": {
   "display_name": "Python 3",
   "language": "python",
   "name": "python3"
  },
  "language_info": {
   "codemirror_mode": {
    "name": "ipython",
    "version": 3
   },
   "file_extension": ".py",
   "mimetype": "text/x-python",
   "name": "python",
   "nbconvert_exporter": "python",
   "pygments_lexer": "ipython3",
   "version": "3.8.5"
  }
 },
 "nbformat": 4,
 "nbformat_minor": 4
}
