{
 "cells": [
  {
   "cell_type": "code",
   "execution_count": null,
   "metadata": {},
   "outputs": [],
   "source": [
    "class Garage():\n",
    "        \n",
    "    def __init__(self, tickets, parkingSpaces = 10, currentTicket):\n",
    "        self.tickets = [i for i in range(9)]\n",
    "        self.parkingSpaces = parkingSpaces\n",
    "        self.currentTicket = currentTicket\n",
    "        \n",
    "           \n",
    "    def takeTicket(self):\n",
    "        givenTicket = self.tickets.pop(0)\n",
    "        print(f\"Your ticket is ticket #{givenTicket}! Please park safely!\")\n",
    "        self.parkingSpaces -= 1            \n",
    "        \n",
    "    def payForParking(self):\n",
    "    \n",
    "    \n",
    "    def leaveGarage(self):\n",
    "        \n",
    "        \n",
    "def park():\n",
    "    choice = input(\"Welcome to SuperLot! Would you like get a 'ticket', 'pay', or 'leave'? \")\n",
    "    if choice.lower() == \"ticket\":\n",
    "        takeTicket() \n",
    "    \n",
    "    if choice.lower() == \"pay\":\n",
    "        payForParking()\n",
    "    \n",
    "    if choice.lower() == \"leave\":\n",
    "        leaveGarage()\n",
    "        "
   ]
  }
 ],
 "metadata": {
  "kernelspec": {
   "display_name": "Python 3",
   "language": "python",
   "name": "python3"
  },
  "language_info": {
   "codemirror_mode": {
    "name": "ipython",
    "version": 3
   },
   "file_extension": ".py",
   "mimetype": "text/x-python",
   "name": "python",
   "nbconvert_exporter": "python",
   "pygments_lexer": "ipython3",
   "version": "3.8.5"
  }
 },
 "nbformat": 4,
 "nbformat_minor": 4
}
