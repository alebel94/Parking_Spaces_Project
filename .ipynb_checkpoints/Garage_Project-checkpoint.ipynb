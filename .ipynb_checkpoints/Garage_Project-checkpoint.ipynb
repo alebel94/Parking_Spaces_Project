{
 "cells": [
  {
   "cell_type": "code",
   "execution_count": null,
   "metadata": {},
   "outputs": [
    {
     "name": "stdout",
     "output_type": "stream",
     "text": [
      "Sorry, there are no more spaces available :(((\n",
      "Welcome to SuperLot! These are the spaces currently available:\n",
      "\n",
      "[]\n"
     ]
    }
   ],
   "source": [
    "class Garage():\n",
    "        \n",
    "    def __init__(self, tickets = [i for i in range(1, 11)], parkingSpaces = 10, currentTicket = {}):\n",
    "        self.tickets = [i for i in range(1, 11)]\n",
    "        self.parkingSpaces = 10\n",
    "        self.currentTicket = {}\n",
    "         \n",
    "    def takeTicket(self):\n",
    "        while True:\n",
    "            if len(self.tickets) == 0:\n",
    "                print(\"Sorry, there are no more spaces available :(((\\n\")\n",
    "                break   \n",
    "            else:\n",
    "                givenTicket = self.tickets.pop(0)\n",
    "                print(f\"Your ticket is ticket #{givenTicket}! Please park safely!\\n\")\n",
    "                self.parkingSpaces -= 1 \n",
    "                self.currentTicket[givenTicket] = False\n",
    "                break\n",
    "        \n",
    "    def payForParking(self):\n",
    "        payParkNum = input(\"What is your ticket number?\\n\\n\")\n",
    "        self.currentTicket[payParkNum] = True\n",
    "        \n",
    "    def leaveGarage(self):\n",
    "        leave_number = input(\"What is your ticket number?\\n\\n\")\n",
    "        if self.currentTicket[leave_number] == True:\n",
    "            print(\"\\nThank you for parking at SuperLot!\")\n",
    "            del self.currentTicket[leave_number]\n",
    "            self.parkingSpaces += 1\n",
    "            self.tickets.append(leave_number)\n",
    "    \n",
    "        \n",
    "def park():\n",
    "    from IPython.display import clear_output\n",
    "    \n",
    "    take = Garage()\n",
    "    \n",
    "    while True:\n",
    "        \n",
    "        print(\"Welcome to SuperLot!\"\n",
    "            \" These are the spaces currently available:\\n\")\n",
    "        print(take.tickets)\n",
    "        choice = input(\"\\nWould you like get a 'ticket', 'pay', or 'leave'?\\n\\n\")\n",
    "        clear_output()\n",
    "        \n",
    "        \n",
    "        if choice.lower() == \"ticket\":\n",
    "            take.takeTicket() \n",
    "\n",
    "        if choice.lower() == \"pay\":\n",
    "            take.payForParking()\n",
    "\n",
    "        if choice.lower() == \"leave\":\n",
    "            take.leaveGarage()\n",
    "            \n",
    "park()\n",
    "        "
   ]
  },
  {
   "cell_type": "code",
   "execution_count": null,
   "metadata": {},
   "outputs": [],
   "source": []
  },
  {
   "cell_type": "code",
   "execution_count": null,
   "metadata": {},
   "outputs": [],
   "source": []
  }
 ],
 "metadata": {
  "kernelspec": {
   "display_name": "Python 3",
   "language": "python",
   "name": "python3"
  },
  "language_info": {
   "codemirror_mode": {
    "name": "ipython",
    "version": 3
   },
   "file_extension": ".py",
   "mimetype": "text/x-python",
   "name": "python",
   "nbconvert_exporter": "python",
   "pygments_lexer": "ipython3",
   "version": "3.8.5"
  }
 },
 "nbformat": 4,
 "nbformat_minor": 4
}
